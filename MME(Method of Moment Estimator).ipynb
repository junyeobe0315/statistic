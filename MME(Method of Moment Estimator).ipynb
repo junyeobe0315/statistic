{
 "cells": [
  {
   "cell_type": "code",
   "execution_count": 9,
   "id": "1a79da35",
   "metadata": {},
   "outputs": [
    {
     "data": {
      "text/plain": [
       "array([0, 0, 0, ..., 1, 0, 0])"
      ]
     },
     "execution_count": 9,
     "metadata": {},
     "output_type": "execute_result"
    }
   ],
   "source": [
    "import numpy as np\n",
    "\n",
    "x_list = np.random.binomial(n=1, p=0.2, size=10000)\n",
    "x_list"
   ]
  },
  {
   "cell_type": "code",
   "execution_count": 10,
   "id": "78e98904",
   "metadata": {},
   "outputs": [],
   "source": [
    "# moment : 적률\n",
    "# p = 0.2\n",
    "# p(1-p) = 0.16\n",
    "# moment 의 return 은 주어진 값에 대한 예상 E(X^k)\n",
    "\n",
    "def moment(x_list, k):\n",
    "    n = len(x_list)\n",
    "    sum_xk = 0\n",
    "    for x in x_list:\n",
    "        sum_xk += x**k\n",
    "    return sum_xk/n"
   ]
  },
  {
   "cell_type": "code",
   "execution_count": 11,
   "id": "0ff59089",
   "metadata": {},
   "outputs": [
    {
     "data": {
      "text/plain": [
       "0.2065"
      ]
     },
     "execution_count": 11,
     "metadata": {},
     "output_type": "execute_result"
    }
   ],
   "source": [
    "moment1 = moment(x_list, 1)\n",
    "moment1"
   ]
  },
  {
   "cell_type": "code",
   "execution_count": 12,
   "id": "7f017e34",
   "metadata": {},
   "outputs": [
    {
     "data": {
      "text/plain": [
       "0.2065"
      ]
     },
     "execution_count": 12,
     "metadata": {},
     "output_type": "execute_result"
    }
   ],
   "source": [
    "moment2 = moment(x_list, 2)\n",
    "moment2"
   ]
  },
  {
   "cell_type": "code",
   "execution_count": 13,
   "id": "fb2bf908",
   "metadata": {},
   "outputs": [
    {
     "data": {
      "text/plain": [
       "0.16385775"
      ]
     },
     "execution_count": 13,
     "metadata": {},
     "output_type": "execute_result"
    }
   ],
   "source": [
    "moment2 - moment1**2"
   ]
  },
  {
   "cell_type": "code",
   "execution_count": 14,
   "id": "81395fed",
   "metadata": {},
   "outputs": [
    {
     "data": {
      "text/plain": [
       "array([ 2.90556625,  3.60975375,  3.04755993, ..., 10.09688223,\n",
       "        5.55979243,  0.84796355])"
      ]
     },
     "execution_count": 14,
     "metadata": {},
     "output_type": "execute_result"
    }
   ],
   "source": [
    "x_list = np.random.gamma(shape=3, scale=2, size=10000)\n",
    "x_list"
   ]
  },
  {
   "cell_type": "code",
   "execution_count": 16,
   "id": "5666ad82",
   "metadata": {},
   "outputs": [
    {
     "data": {
      "text/plain": [
       "5.967429213479685"
      ]
     },
     "execution_count": 16,
     "metadata": {},
     "output_type": "execute_result"
    }
   ],
   "source": [
    "moment1 = moment(x_list, 1)\n",
    "moment1"
   ]
  },
  {
   "cell_type": "code",
   "execution_count": 17,
   "id": "29418d47",
   "metadata": {},
   "outputs": [
    {
     "data": {
      "text/plain": [
       "47.594761418956175"
      ]
     },
     "execution_count": 17,
     "metadata": {},
     "output_type": "execute_result"
    }
   ],
   "source": [
    "moment2 = moment(x_list, 2)\n",
    "moment2"
   ]
  },
  {
   "cell_type": "code",
   "execution_count": 18,
   "id": "67dd6205",
   "metadata": {},
   "outputs": [
    {
     "data": {
      "text/plain": [
       "2.971343222292458"
      ]
     },
     "execution_count": 18,
     "metadata": {},
     "output_type": "execute_result"
    }
   ],
   "source": [
    "alpha_hat = (moment1**2) / (moment2 - moment1**2)\n",
    "alpha_hat"
   ]
  },
  {
   "cell_type": "code",
   "execution_count": 20,
   "id": "75b63ead",
   "metadata": {},
   "outputs": [
    {
     "data": {
      "text/plain": [
       "2.008327132560499"
      ]
     },
     "execution_count": 20,
     "metadata": {},
     "output_type": "execute_result"
    }
   ],
   "source": [
    "beta_hat = (moment2- moment1**2) / moment1\n",
    "beta_hat"
   ]
  },
  {
   "cell_type": "code",
   "execution_count": null,
   "id": "af9000fd",
   "metadata": {},
   "outputs": [],
   "source": []
  }
 ],
 "metadata": {
  "kernelspec": {
   "display_name": "Python 3 (ipykernel)",
   "language": "python",
   "name": "python3"
  },
  "language_info": {
   "codemirror_mode": {
    "name": "ipython",
    "version": 3
   },
   "file_extension": ".py",
   "mimetype": "text/x-python",
   "name": "python",
   "nbconvert_exporter": "python",
   "pygments_lexer": "ipython3",
   "version": "3.10.8"
  }
 },
 "nbformat": 4,
 "nbformat_minor": 5
}
